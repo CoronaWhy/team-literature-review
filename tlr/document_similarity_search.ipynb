{
 "cells": [
  {
   "cell_type": "markdown",
   "metadata": {
    "colab_type": "text",
    "id": "view-in-github"
   },
   "source": [
    "<a href=\"https://colab.research.google.com/github/CoronaWhy/team-literature-review/blob/master/tlr/faiss_document_similarity_search.ipynb\" target=\"_parent\"><img src=\"https://colab.research.google.com/assets/colab-badge.svg\" alt=\"Open In Colab\"/></a>"
   ]
  },
  {
   "cell_type": "markdown",
   "metadata": {},
   "source": [
    "# Document Similarity Search\n",
    "\n",
    "\n",
    "This notebook shows how to run document similarity search on the CORD-19 dataset using the [FAISS](https://github.com/facebookresearch/faiss) algorithms and based on [Christine Chen & Coronawhy Task Ties Team](https://www.kaggle.com/crispyc/coronawhy-task-ties-patient-descriptions#Code) submission on round 2 of [CORD-19 Research Challenge](https://www.kaggle.com/allen-institute-for-ai/CORD-19-research-challenge).\n",
    "\n",
    "\n",
    "## Requirements\n",
    "\n",
    "### Python requirements\n",
    "\n",
    "The required dependencies for this code can be located on the requirements.txt file and installed with\n",
    "\n",
    "```\n",
    "pip install -r requirements.txt\n",
    "```\n",
    "\n",
    "### Vector embeddings\n",
    "\n",
    "In order to perform the similarity search we need the documents transformed into vector embeddings.\n",
    "We will use the [embeddings](https://www.kaggle.com/allen-institute-for-ai/CORD-19-research-challenge?select=cord_19_embeddings) provided by the authors of the CORD-19 dataset.\n",
    "\n",
    "If you have your [Kaggle credentials](https://github.com/Kaggle/kaggle-api#api-credentials) setup in place you can download it automatically the first time you run it (it will be stored for later uses), it may take some time as the file is 4GB,or you can always download the file by hand and pass the path as an argument.\n",
    "\n",
    "\n",
    "## Quickstart"
   ]
  },
  {
   "cell_type": "code",
   "execution_count": null,
   "metadata": {},
   "outputs": [],
   "source": [
    "from document_similarity_search import document_similarity_search\n",
    "\n",
    "uids = [\n",
    "    '02tnwd4m',\n",
    "    'byp2eqhd',\n",
    "]\n",
    "titles = [\n",
    "    'Nitric oxide: a pro-inflammatory mediator in lung disease?',\n",
    "    'Immune pathways and defence mechanisms in honey bees Apis mellifera',\n",
    "]\n",
    "\n",
    "num_results = 5\n",
    "document_similarity_search(uids=uids, titles=titles, num_results=5)"
   ]
  },
  {
   "cell_type": "markdown",
   "metadata": {},
   "source": [
    "## What's next?\n",
    "\n",
    "### MongoDB\n",
    "\n",
    "In order to perfom the retrieval of the articles, we need to have the CORD-19 dataset available in a MongoDB database.\n",
    "\n",
    "By default we use the one in the [Coronawhy Infrastructure](https://www.coronawhy.org/services), but you can use your own by changing the `mongodb` section on the `setup.cfg` file.\n",
    "\n",
    "\n",
    "### Embeddings \n",
    "\n",
    "You can use your own set of embeddings to create the index of the search, just have to pass it as an argument:"
   ]
  },
  {
   "cell_type": "code",
   "execution_count": null,
   "metadata": {},
   "outputs": [],
   "source": [
    "import pandas as pd\n",
    "from document_similarity_search import document_similarity_search\n",
    "\n",
    "uids = [\n",
    "    '02tnwd4m',\n",
    "    'byp2eqhd',\n",
    "]\n",
    "titles = [\n",
    "    'Nitric oxide: a pro-inflammatory mediator in lung disease?',\n",
    "    'Immune pathways and defence mechanisms in honey bees Apis mellifera',\n",
    "]\n",
    "num_results = 5\n",
    "\n",
    "embeddings = pd.read_csv('my_embeddings.csv')\n",
    "document_similarity_search(uids=uids, titles=titles, num_results=5, embeddings=embeddings)\n"
   ]
  }
 ],
 "metadata": {
  "colab": {
   "collapsed_sections": [],
   "include_colab_link": true,
   "name": "faiss_document_similarity_search.ipynb",
   "provenance": [],
   "toc_visible": true
  },
  "kernelspec": {
   "display_name": "Python 3",
   "language": "python",
   "name": "python3"
  },
  "language_info": {
   "codemirror_mode": {
    "name": "ipython",
    "version": 3
   },
   "file_extension": ".py",
   "mimetype": "text/x-python",
   "name": "python",
   "nbconvert_exporter": "python",
   "pygments_lexer": "ipython3",
   "version": "3.7.5"
  }
 },
 "nbformat": 4,
 "nbformat_minor": 4
}
